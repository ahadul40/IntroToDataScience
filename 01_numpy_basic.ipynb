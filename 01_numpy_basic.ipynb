{
  "nbformat": 4,
  "nbformat_minor": 0,
  "metadata": {
    "colab": {
      "name": "Numpy Basic.ipynb",
      "provenance": [],
      "collapsed_sections": [],
      "toc_visible": true
    },
    "kernelspec": {
      "name": "python3",
      "display_name": "Python 3"
    },
    "accelerator": "GPU"
  },
  "cells": [
    {
      "cell_type": "code",
      "metadata": {
        "id": "6a2eAhN6WnqN",
        "colab_type": "code",
        "colab": {
          "base_uri": "https://localhost:8080/",
          "height": 51
        },
        "outputId": "b404d82e-0e63-4a66-af6c-30c99b0245b4"
      },
      "source": [
        "import torch\n",
        "\n",
        "x = torch.randn(10000, 10000).to(\"cuda\")\n",
        "w = torch.randn(10000, 10000).to(\"cuda\")\n",
        "# ensure that context initialization finish before you start measuring time\n",
        "torch.cuda.synchronize()\n",
        "\n",
        "%time y = x.mm(w.t()); torch.cuda.synchronize()"
      ],
      "execution_count": 1,
      "outputs": [
        {
          "output_type": "stream",
          "text": [
            "CPU times: user 351 ms, sys: 304 ms, total: 654 ms\n",
            "Wall time: 666 ms\n"
          ],
          "name": "stdout"
        }
      ]
    },
    {
      "cell_type": "code",
      "metadata": {
        "id": "EWi3MzGdXEdc",
        "colab_type": "code",
        "colab": {
          "base_uri": "https://localhost:8080/",
          "height": 51
        },
        "outputId": "5604b46d-2c03-4551-9f34-b75cdfc2844a"
      },
      "source": [
        "x = torch.randn(10000, 10000).to(\"cpu\")\n",
        "w = torch.randn(10000, 10000).to(\"cpu\")\n",
        "\n",
        "%time y = x.mm(w.t())"
      ],
      "execution_count": 2,
      "outputs": [
        {
          "output_type": "stream",
          "text": [
            "CPU times: user 16.3 s, sys: 185 ms, total: 16.5 s\n",
            "Wall time: 16.5 s\n"
          ],
          "name": "stdout"
        }
      ]
    },
    {
      "cell_type": "markdown",
      "metadata": {
        "id": "nx8SWHtMIWUY",
        "colab_type": "text"
      },
      "source": [
        "## Numpy Tutorial\n"
      ]
    },
    {
      "cell_type": "code",
      "metadata": {
        "id": "2IpdKESy8PqX",
        "colab_type": "code",
        "colab": {}
      },
      "source": [
        "import numpy as np"
      ],
      "execution_count": 3,
      "outputs": []
    },
    {
      "cell_type": "markdown",
      "metadata": {
        "id": "h6qm0hJZIhJO",
        "colab_type": "text"
      },
      "source": [
        "The simplest object we can create is a vector. arange creates a row vector of 12 integers."
      ]
    },
    {
      "cell_type": "code",
      "metadata": {
        "id": "Eq5I4qM9IeqK",
        "colab_type": "code",
        "colab": {
          "base_uri": "https://localhost:8080/",
          "height": 34
        },
        "outputId": "6eb1d2f5-c66e-4bb8-8ee7-d0f403ef33b9"
      },
      "source": [
        "x = np.arange(12)\n",
        "x"
      ],
      "execution_count": 4,
      "outputs": [
        {
          "output_type": "execute_result",
          "data": {
            "text/plain": [
              "array([ 0,  1,  2,  3,  4,  5,  6,  7,  8,  9, 10, 11])"
            ]
          },
          "metadata": {
            "tags": []
          },
          "execution_count": 4
        }
      ]
    },
    {
      "cell_type": "markdown",
      "metadata": {
        "id": "OF5LpnOpIrCQ",
        "colab_type": "text"
      },
      "source": [
        "\n",
        "We can get the array instance shape through the shape property."
      ]
    },
    {
      "cell_type": "code",
      "metadata": {
        "id": "fuH7-VNBInCz",
        "colab_type": "code",
        "colab": {
          "base_uri": "https://localhost:8080/",
          "height": 34
        },
        "outputId": "9d8361cd-fc18-4570-e239-c98b6d8aa738"
      },
      "source": [
        "x.shape"
      ],
      "execution_count": 5,
      "outputs": [
        {
          "output_type": "execute_result",
          "data": {
            "text/plain": [
              "(12,)"
            ]
          },
          "metadata": {
            "tags": []
          },
          "execution_count": 5
        }
      ]
    },
    {
      "cell_type": "markdown",
      "metadata": {
        "id": "zL-5-S6NIwke",
        "colab_type": "text"
      },
      "source": [
        "We can also get the total number of elements in the array instance through the size property."
      ]
    },
    {
      "cell_type": "code",
      "metadata": {
        "id": "ZenfVyMJIpJx",
        "colab_type": "code",
        "colab": {
          "base_uri": "https://localhost:8080/",
          "height": 34
        },
        "outputId": "3d3d6576-fd42-4e17-c301-d92199fc12c8"
      },
      "source": [
        "x.size"
      ],
      "execution_count": 6,
      "outputs": [
        {
          "output_type": "execute_result",
          "data": {
            "text/plain": [
              "12"
            ]
          },
          "metadata": {
            "tags": []
          },
          "execution_count": 6
        }
      ]
    },
    {
      "cell_type": "markdown",
      "metadata": {
        "id": "jsI-VTVXI3-W",
        "colab_type": "text"
      },
      "source": [
        "The reshape function change the shape of the line vector x to (3, 4), which is a matrix of 3 rows and 4 columns."
      ]
    },
    {
      "cell_type": "code",
      "metadata": {
        "id": "eeAJuykKI7bg",
        "colab_type": "code",
        "colab": {
          "base_uri": "https://localhost:8080/",
          "height": 102
        },
        "outputId": "bada0c8e-10f1-4eb9-9d9b-2dec4ba4aa6f"
      },
      "source": [
        "x = x.reshape((3, -1))\n",
        "print(x)\n",
        "print(x.shape)\n",
        "print(x.size)"
      ],
      "execution_count": 7,
      "outputs": [
        {
          "output_type": "stream",
          "text": [
            "[[ 0  1  2  3]\n",
            " [ 4  5  6  7]\n",
            " [ 8  9 10 11]]\n",
            "(3, 4)\n",
            "12\n"
          ],
          "name": "stdout"
        }
      ]
    },
    {
      "cell_type": "markdown",
      "metadata": {
        "id": "ISLFDQP6JDqY",
        "colab_type": "text"
      },
      "source": [
        "We can use -1 to fill in defaults. x.reshape((3, 4)) is equivalent to x.reshape((-1, 4)) and x.reshape((3, -1))."
      ]
    },
    {
      "cell_type": "markdown",
      "metadata": {
        "id": "LfzSHwBkJKSk",
        "colab_type": "text"
      },
      "source": [
        "\n",
        "Typically we want all zeros. To create a tensor of shape (2, 3, 4)"
      ]
    },
    {
      "cell_type": "code",
      "metadata": {
        "id": "IM4YFhIjJEmQ",
        "colab_type": "code",
        "colab": {
          "base_uri": "https://localhost:8080/",
          "height": 138
        },
        "outputId": "6c0ac974-099b-445f-e7e7-9d5c00b7567e"
      },
      "source": [
        "np.zeros((2, 3, 4))"
      ],
      "execution_count": null,
      "outputs": [
        {
          "output_type": "execute_result",
          "data": {
            "text/plain": [
              "array([[[0., 0., 0., 0.],\n",
              "        [0., 0., 0., 0.],\n",
              "        [0., 0., 0., 0.]],\n",
              "\n",
              "       [[0., 0., 0., 0.],\n",
              "        [0., 0., 0., 0.],\n",
              "        [0., 0., 0., 0.]]])"
            ]
          },
          "metadata": {
            "tags": []
          },
          "execution_count": 6
        }
      ]
    },
    {
      "cell_type": "markdown",
      "metadata": {
        "id": "aXcCBgqKJXlC",
        "colab_type": "text"
      },
      "source": [
        "We can also specify the value of each element in the array that needs to be created through a Python list."
      ]
    },
    {
      "cell_type": "code",
      "metadata": {
        "id": "UtTepeL7JZzZ",
        "colab_type": "code",
        "colab": {
          "base_uri": "https://localhost:8080/",
          "height": 69
        },
        "outputId": "eb2bcbf5-5777-4e0c-c116-a3842bd4b72c"
      },
      "source": [
        "y = np.array([[2, 1, 4, 3], [1, 2, 3, 4], [4, 3, 2, 1]])\n",
        "y"
      ],
      "execution_count": null,
      "outputs": [
        {
          "output_type": "execute_result",
          "data": {
            "text/plain": [
              "array([[2, 1, 4, 3],\n",
              "       [1, 2, 3, 4],\n",
              "       [4, 3, 2, 1]])"
            ]
          },
          "metadata": {
            "tags": []
          },
          "execution_count": 8
        }
      ]
    },
    {
      "cell_type": "markdown",
      "metadata": {
        "id": "9u97iMeKJkkS",
        "colab_type": "text"
      },
      "source": [
        "In some cases, we need to randomly generate the value of each element in the array. This is especially common when we intend to use the array as a parameter in a neural network. The following creates an array with a shape of (3,4). Each of its elements is randomly sampled in a normal distribution with zero mean and unit variance."
      ]
    },
    {
      "cell_type": "code",
      "metadata": {
        "id": "KWPMkyn9Jja3",
        "colab_type": "code",
        "colab": {
          "base_uri": "https://localhost:8080/",
          "height": 68
        },
        "outputId": "9c14a024-d1fa-4dfe-de3f-9fa42158cdfb"
      },
      "source": [
        "np.random.normal(0, 1, size=(3, 4))"
      ],
      "execution_count": 8,
      "outputs": [
        {
          "output_type": "execute_result",
          "data": {
            "text/plain": [
              "array([[ 0.22638064, -1.49421897, -0.8972499 , -0.12045226],\n",
              "       [ 0.90210785,  0.7828864 ,  0.65972897, -0.00487247],\n",
              "       [ 0.99485529, -0.55444371,  1.59524717,  1.21401386]])"
            ]
          },
          "metadata": {
            "tags": []
          },
          "execution_count": 8
        }
      ]
    },
    {
      "cell_type": "markdown",
      "metadata": {
        "id": "5fNUcb0dJ96o",
        "colab_type": "text"
      },
      "source": [
        "### Operations"
      ]
    },
    {
      "cell_type": "markdown",
      "metadata": {
        "id": "bslciGRSKDul",
        "colab_type": "text"
      },
      "source": [
        "Common standard arithmetic operators (+,-,/,\\*,\\*\\*) have all been lifted to element-wise operations for identically-shaped tensors."
      ]
    },
    {
      "cell_type": "code",
      "metadata": {
        "id": "t3gzsdDOKAty",
        "colab_type": "code",
        "colab": {
          "base_uri": "https://localhost:8080/",
          "height": 136
        },
        "outputId": "1833157b-2692-40cd-c42d-b4ada9ec70c9"
      },
      "source": [
        "x = np.array([1, 2, 4, 8])\n",
        "y = np.ones_like(x) * 2\n",
        "print('x =', x)\n",
        "print('y =', y)\n",
        "print('x ** y', x ** y) \n",
        "print('x + y', x + y)\n",
        "print('x - y', x - y)\n",
        "print('x * y', x * y)\n",
        "print('x / y', x / y)"
      ],
      "execution_count": 9,
      "outputs": [
        {
          "output_type": "stream",
          "text": [
            "x = [1 2 4 8]\n",
            "y = [2 2 2 2]\n",
            "x ** y [ 1  4 16 64]\n",
            "x + y [ 3  4  6 10]\n",
            "x - y [-1  0  2  6]\n",
            "x * y [ 2  4  8 16]\n",
            "x / y [0.5 1.  2.  4. ]\n"
          ],
          "name": "stdout"
        }
      ]
    },
    {
      "cell_type": "markdown",
      "metadata": {
        "id": "1fSqFkM2KYEL",
        "colab_type": "text"
      },
      "source": [
        "Many more operations can be applied element-wise, such as exponentiation:"
      ]
    },
    {
      "cell_type": "code",
      "metadata": {
        "id": "PoFitLK_KFYj",
        "colab_type": "code",
        "colab": {
          "base_uri": "https://localhost:8080/",
          "height": 34
        },
        "outputId": "93c934dc-7ee1-4678-fdfe-016b4ae7700b"
      },
      "source": [
        "np.exp(x)"
      ],
      "execution_count": 10,
      "outputs": [
        {
          "output_type": "execute_result",
          "data": {
            "text/plain": [
              "array([2.71828183e+00, 7.38905610e+00, 5.45981500e+01, 2.98095799e+03])"
            ]
          },
          "metadata": {
            "tags": []
          },
          "execution_count": 10
        }
      ]
    },
    {
      "cell_type": "markdown",
      "metadata": {
        "id": "MCcp9b9-KgwL",
        "colab_type": "text"
      },
      "source": [
        "In addition to computations by element, we can also use the dot function for matrix operations. To perform matrix multiplication we define x as a matrix of 3 rows and 4 columns, and y is transposed into a matrix of 4 rows and 3 columns."
      ]
    },
    {
      "cell_type": "code",
      "metadata": {
        "id": "mQiPs_NUKlp5",
        "colab_type": "code",
        "colab": {
          "base_uri": "https://localhost:8080/",
          "height": 68
        },
        "outputId": "7c48b369-73ea-4f0b-baf1-83191592c5ba"
      },
      "source": [
        "x = np.arange(12).reshape((3,4))\n",
        "y = np.array([[2, 1, 4, 3], [1, 2, 3, 4], [4, 3, 2, 1]])\n",
        "np.dot(x, y.T)"
      ],
      "execution_count": 11,
      "outputs": [
        {
          "output_type": "execute_result",
          "data": {
            "text/plain": [
              "array([[ 18,  20,  10],\n",
              "       [ 58,  60,  50],\n",
              "       [ 98, 100,  90]])"
            ]
          },
          "metadata": {
            "tags": []
          },
          "execution_count": 11
        }
      ]
    },
    {
      "cell_type": "markdown",
      "metadata": {
        "id": "WBFCgvkxKyFu",
        "colab_type": "text"
      },
      "source": [
        "We can also merge multiple arrays. For that, we need to tell the system along which dimension to merge. The example below merges two matrices along dimension 0 (along rows) and dimension 1 (along columns) respectively."
      ]
    },
    {
      "cell_type": "code",
      "metadata": {
        "id": "0lqwBAVdK17q",
        "colab_type": "code",
        "colab": {
          "base_uri": "https://localhost:8080/",
          "height": 153
        },
        "outputId": "52aacc53-e7f6-4f2c-c8a8-fbefd621089f"
      },
      "source": [
        "x = np.array([1, 2, 4, 8])\n",
        "y = np.ones_like(x) * 2\n",
        "x = x.reshape((4,1))\n",
        "y = y.reshape((4,1))\n",
        "np.concatenate((x, y), axis=0)"
      ],
      "execution_count": 16,
      "outputs": [
        {
          "output_type": "execute_result",
          "data": {
            "text/plain": [
              "array([[1],\n",
              "       [2],\n",
              "       [4],\n",
              "       [8],\n",
              "       [2],\n",
              "       [2],\n",
              "       [2],\n",
              "       [2]])"
            ]
          },
          "metadata": {
            "tags": []
          },
          "execution_count": 16
        }
      ]
    },
    {
      "cell_type": "code",
      "metadata": {
        "id": "2Zfq8nJ2ZALZ",
        "colab_type": "code",
        "colab": {
          "base_uri": "https://localhost:8080/",
          "height": 85
        },
        "outputId": "a5fb6edb-c76c-4caa-cdee-26f75195f3d0"
      },
      "source": [
        "x"
      ],
      "execution_count": 17,
      "outputs": [
        {
          "output_type": "execute_result",
          "data": {
            "text/plain": [
              "array([[1],\n",
              "       [2],\n",
              "       [4],\n",
              "       [8]])"
            ]
          },
          "metadata": {
            "tags": []
          },
          "execution_count": 17
        }
      ]
    },
    {
      "cell_type": "markdown",
      "metadata": {
        "id": "alrOpD0xLe1a",
        "colab_type": "text"
      },
      "source": [
        "We can construct binary arrays by a logical statement. Take x == y as an example. If x and y are equal for some entry, the new array has a value of 1 at the same position; otherwise, it is 0."
      ]
    },
    {
      "cell_type": "code",
      "metadata": {
        "id": "3I3ErUlZLinD",
        "colab_type": "code",
        "colab": {
          "base_uri": "https://localhost:8080/",
          "height": 85
        },
        "outputId": "1500a928-4237-4877-e511-e7eb524f133d"
      },
      "source": [
        "x == y"
      ],
      "execution_count": 18,
      "outputs": [
        {
          "output_type": "execute_result",
          "data": {
            "text/plain": [
              "array([[False],\n",
              "       [ True],\n",
              "       [False],\n",
              "       [False]])"
            ]
          },
          "metadata": {
            "tags": []
          },
          "execution_count": 18
        }
      ]
    },
    {
      "cell_type": "markdown",
      "metadata": {
        "id": "vSG76i-zLqm2",
        "colab_type": "text"
      },
      "source": [
        "Summing over the array yields an array with one element."
      ]
    },
    {
      "cell_type": "code",
      "metadata": {
        "id": "ofKOzj94LuTl",
        "colab_type": "code",
        "colab": {
          "base_uri": "https://localhost:8080/",
          "height": 34
        },
        "outputId": "135b87e7-ebcb-49a9-fb79-acd56a17a7c0"
      },
      "source": [
        "x.sum()"
      ],
      "execution_count": 19,
      "outputs": [
        {
          "output_type": "execute_result",
          "data": {
            "text/plain": [
              "15"
            ]
          },
          "metadata": {
            "tags": []
          },
          "execution_count": 19
        }
      ]
    },
    {
      "cell_type": "code",
      "metadata": {
        "id": "3T9D5HjbZXPo",
        "colab_type": "code",
        "colab": {
          "base_uri": "https://localhost:8080/",
          "height": 34
        },
        "outputId": "e55dbda7-2014-46b2-d0a1-2ec58c0eaf35"
      },
      "source": [
        "x.mean()"
      ],
      "execution_count": 20,
      "outputs": [
        {
          "output_type": "execute_result",
          "data": {
            "text/plain": [
              "3.75"
            ]
          },
          "metadata": {
            "tags": []
          },
          "execution_count": 20
        }
      ]
    },
    {
      "cell_type": "markdown",
      "metadata": {
        "id": "GSA5bokcL_9o",
        "colab_type": "text"
      },
      "source": [
        "### Broadcast Mechanism"
      ]
    },
    {
      "cell_type": "markdown",
      "metadata": {
        "id": "efc4RajKMJpu",
        "colab_type": "text"
      },
      "source": [
        "If shapes of arrays differ a broadcasting mechanism is used (see NumPy): first, copy the elements appropriately so that both arrays have the same shape, then carry out operations by element."
      ]
    },
    {
      "cell_type": "code",
      "metadata": {
        "id": "q9BwaDbdMBdJ",
        "colab_type": "code",
        "colab": {
          "base_uri": "https://localhost:8080/",
          "height": 68
        },
        "outputId": "1a036ab5-749f-4ce1-945b-e68ddea69379"
      },
      "source": [
        "a = np.arange(3).reshape((3, 1))\n",
        "b = np.arange(2).reshape((1, 2))\n",
        "a, b"
      ],
      "execution_count": 21,
      "outputs": [
        {
          "output_type": "execute_result",
          "data": {
            "text/plain": [
              "(array([[0],\n",
              "        [1],\n",
              "        [2]]), array([[0, 1]]))"
            ]
          },
          "metadata": {
            "tags": []
          },
          "execution_count": 21
        }
      ]
    },
    {
      "cell_type": "markdown",
      "metadata": {
        "id": "vDn0mbl-MQaZ",
        "colab_type": "text"
      },
      "source": [
        "Since a and b are (3x1) and (1x2) matrices respectively, their shapes do not match up if we want to add them. array addresses this by 'broadcasting' the entries of both matrices into a larger (3x2) matrix as follows: for matrix a it replicates the columns, for matrix b it replicates the rows before adding up both element-wise."
      ]
    },
    {
      "cell_type": "code",
      "metadata": {
        "id": "JYsxgmeWMUvB",
        "colab_type": "code",
        "colab": {
          "base_uri": "https://localhost:8080/",
          "height": 68
        },
        "outputId": "16e1aba2-f368-4bca-e105-c8d5263bada2"
      },
      "source": [
        "a + b"
      ],
      "execution_count": 22,
      "outputs": [
        {
          "output_type": "execute_result",
          "data": {
            "text/plain": [
              "array([[0, 1],\n",
              "       [1, 2],\n",
              "       [2, 3]])"
            ]
          },
          "metadata": {
            "tags": []
          },
          "execution_count": 22
        }
      ]
    },
    {
      "cell_type": "markdown",
      "metadata": {
        "id": "UeqIggXLMlA5",
        "colab_type": "text"
      },
      "source": [
        "### Indexing and Slicing"
      ]
    },
    {
      "cell_type": "markdown",
      "metadata": {
        "id": "9Hmkt24bNDDK",
        "colab_type": "text"
      },
      "source": [
        "Elements in an array can be accessed by its index. In good Python tradition the first element has index 0 and ranges are specified to include the first but not the last. By this logic 1:3 selects the second and third element. Let's try this out by selecting the respective rows in a matrix."
      ]
    },
    {
      "cell_type": "code",
      "metadata": {
        "id": "T7vi7GJ7NAjk",
        "colab_type": "code",
        "colab": {
          "base_uri": "https://localhost:8080/",
          "height": 68
        },
        "outputId": "f734e138-6075-4cfa-8c65-33600c66ed84"
      },
      "source": [
        "x = np.arange(12).reshape(3,4)\n",
        "x"
      ],
      "execution_count": 23,
      "outputs": [
        {
          "output_type": "execute_result",
          "data": {
            "text/plain": [
              "array([[ 0,  1,  2,  3],\n",
              "       [ 4,  5,  6,  7],\n",
              "       [ 8,  9, 10, 11]])"
            ]
          },
          "metadata": {
            "tags": []
          },
          "execution_count": 23
        }
      ]
    },
    {
      "cell_type": "markdown",
      "metadata": {
        "id": "eN_2YlXFNfVS",
        "colab_type": "text"
      },
      "source": [
        "Beyond reading we can also write elements of a matrix."
      ]
    },
    {
      "cell_type": "code",
      "metadata": {
        "id": "ofe88fktNi0Q",
        "colab_type": "code",
        "colab": {
          "base_uri": "https://localhost:8080/",
          "height": 68
        },
        "outputId": "a9613199-3319-45f3-c800-5fc42a0d041e"
      },
      "source": [
        "x[1, 2] = 9\n",
        "x"
      ],
      "execution_count": 24,
      "outputs": [
        {
          "output_type": "execute_result",
          "data": {
            "text/plain": [
              "array([[ 0,  1,  2,  3],\n",
              "       [ 4,  5,  9,  7],\n",
              "       [ 8,  9, 10, 11]])"
            ]
          },
          "metadata": {
            "tags": []
          },
          "execution_count": 24
        }
      ]
    },
    {
      "cell_type": "markdown",
      "metadata": {
        "id": "1LiUWHcQNnZb",
        "colab_type": "text"
      },
      "source": [
        "\n",
        "If we want to assign multiple elements the same value, we simply index all of them and then assign them the value."
      ]
    },
    {
      "cell_type": "code",
      "metadata": {
        "id": "tVe79hYYNqKm",
        "colab_type": "code",
        "colab": {
          "base_uri": "https://localhost:8080/",
          "height": 68
        },
        "outputId": "e236303d-0bca-4e2f-ff45-068b9c993b8c"
      },
      "source": [
        "x[0:2, :] = 12\n",
        "x"
      ],
      "execution_count": 26,
      "outputs": [
        {
          "output_type": "execute_result",
          "data": {
            "text/plain": [
              "array([[12, 12, 12, 12],\n",
              "       [12, 12, 12, 12],\n",
              "       [ 8,  9, 10, 11]])"
            ]
          },
          "metadata": {
            "tags": []
          },
          "execution_count": 26
        }
      ]
    },
    {
      "cell_type": "markdown",
      "metadata": {
        "id": "uiRrBOb7NviI",
        "colab_type": "text"
      },
      "source": [
        "### Saving Memory"
      ]
    },
    {
      "cell_type": "markdown",
      "metadata": {
        "id": "YQj4qPp_N59M",
        "colab_type": "text"
      },
      "source": [
        "We allocated new memory for each operation. For example, if we write y = x + y, we will dereference the matrix that y used to point to and instead point it at the newly allocated memory. After running y = y + x, we'll find that id(y) points to a different location. That's because Python first evaluates y + x, allocating new memory for the result and then subsequently redirects y to point at this new location."
      ]
    },
    {
      "cell_type": "code",
      "metadata": {
        "id": "RO3A_NkqNx-X",
        "colab_type": "code",
        "colab": {
          "base_uri": "https://localhost:8080/",
          "height": 51
        },
        "outputId": "a10ac81f-042e-4c38-f9eb-d46f51a0e369"
      },
      "source": [
        "x = np.array([1, 2, 4, 8])\n",
        "y = np.ones_like(x) * 2\n",
        "\n",
        "before = id(y)\n",
        "y = y + x\n",
        "id(y) == before\n",
        "print(id(y))\n",
        "print(before)"
      ],
      "execution_count": 28,
      "outputs": [
        {
          "output_type": "stream",
          "text": [
            "140271585506928\n",
            "140271444828688\n"
          ],
          "name": "stdout"
        }
      ]
    },
    {
      "cell_type": "markdown",
      "metadata": {
        "id": "66skaYSVOJIu",
        "colab_type": "text"
      },
      "source": [
        "\n",
        "In-place operations in Numpy are easy. We can assign the result of an operation to a previously allocated array with slice notation, e.g.,\n",
        "\n"
      ]
    },
    {
      "cell_type": "code",
      "metadata": {
        "id": "oI7u4bSrOXMt",
        "colab_type": "code",
        "colab": {
          "base_uri": "https://localhost:8080/",
          "height": 51
        },
        "outputId": "b5747882-4e3d-4a40-ea4a-e317b8560a32"
      },
      "source": [
        "z = np.zeros_like(y)\n",
        "print('id(z):', id(z))\n",
        "z[:] = x + y\n",
        "print('id(z):', id(z))"
      ],
      "execution_count": 29,
      "outputs": [
        {
          "output_type": "stream",
          "text": [
            "id(z): 140271444829248\n",
            "id(z): 140271444829248\n"
          ],
          "name": "stdout"
        }
      ]
    },
    {
      "cell_type": "markdown",
      "metadata": {
        "id": "LwcWMKILOjxN",
        "colab_type": "text"
      },
      "source": [
        "If the value of x is not reused in subsequent programs, we can also use x[:] = x + y or x += y to reduce the memory overhead of the operation."
      ]
    },
    {
      "cell_type": "code",
      "metadata": {
        "id": "mSYk0maZOkr3",
        "colab_type": "code",
        "colab": {
          "base_uri": "https://localhost:8080/",
          "height": 34
        },
        "outputId": "783faa4c-ef58-4ed8-ec7b-d0b65cbb8aae"
      },
      "source": [
        "before = id(x)\n",
        "x += y\n",
        "id(x) == before"
      ],
      "execution_count": 30,
      "outputs": [
        {
          "output_type": "execute_result",
          "data": {
            "text/plain": [
              "True"
            ]
          },
          "metadata": {
            "tags": []
          },
          "execution_count": 30
        }
      ]
    }
  ]
}