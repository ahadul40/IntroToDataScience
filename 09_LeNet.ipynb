{
  "nbformat": 4,
  "nbformat_minor": 0,
  "metadata": {
    "colab": {
      "name": "LeNet.ipynb",
      "provenance": [],
      "collapsed_sections": []
    },
    "kernelspec": {
      "name": "python3",
      "display_name": "Python 3"
    },
    "accelerator": "GPU"
  },
  "cells": [
    {
      "cell_type": "markdown",
      "metadata": {
        "id": "_p7DjwvN0Ie5",
        "colab_type": "text"
      },
      "source": [
        "#Lenet"
      ]
    },
    {
      "cell_type": "markdown",
      "metadata": {
        "id": "cCAbvWgj0KqY",
        "colab_type": "text"
      },
      "source": [
        "![LeNet](http://www.d2l.ai/_images/lenet.svg)"
      ]
    },
    {
      "cell_type": "code",
      "metadata": {
        "id": "t87Yck663EiA",
        "colab_type": "code",
        "colab": {
          "base_uri": "https://localhost:8080/",
          "height": 34
        },
        "outputId": "40112e56-c5b6-472a-ef87-8f655b916669"
      },
      "source": [
        "# !pip install torchsummary\n",
        "import argparse\n",
        "import torch\n",
        "import torch.nn as nn\n",
        "import torch.nn.functional as F\n",
        "import torch.optim as optim\n",
        "from torchvision import datasets, transforms\n",
        "from torch.autograd import Variable\n",
        "from torch.optim.lr_scheduler import StepLR\n",
        "from torchsummary import summary\n",
        "import numpy as np"
      ],
      "execution_count": 31,
      "outputs": [
        {
          "output_type": "stream",
          "text": [
            "Requirement already satisfied: torchsummary in /usr/local/lib/python3.6/dist-packages (1.5.1)\n"
          ],
          "name": "stdout"
        }
      ]
    },
    {
      "cell_type": "code",
      "metadata": {
        "id": "TDfVfLec0E-G",
        "colab_type": "code",
        "colab": {}
      },
      "source": [
        "class LeNet5(nn.Module):\n",
        "    def __init__(self):\n",
        "        super().__init__()\n",
        "        self.conv1 = nn.Conv2d(in_channels=1, out_channels=6, kernel_size=5, stride=1)\n",
        "        self.max_pool_1  = nn.MaxPool2d(kernel_size=2)\n",
        "        self.conv2 = nn.Conv2d(in_channels=6, out_channels=16, kernel_size=5, stride=1)\n",
        "        self.max_pool_2 = nn.MaxPool2d(kernel_size=2)\n",
        "\n",
        "        self.fc1 = nn.Linear(in_features=16*4*4, out_features=120)\n",
        "        self.fc2 = nn.Linear(in_features=120, out_features=84)\n",
        "        self.fc3 = nn.Linear(in_features=84, out_features=10)\n",
        "        \n",
        "    def forward(self, xb):\n",
        "        xb = F.relu(self.conv1(xb))\n",
        "        xb = self.max_pool_1(xb)\n",
        "        xb = F.relu(self.conv2(xb))\n",
        "        xb = self.max_pool_2(xb)\n",
        "        xb = xb.view(-1, 16*4*4)\n",
        "        xb = F.relu(self.fc1(xb))\n",
        "        xb = F.relu(self.fc2(xb))\n",
        "        xb = self.fc3(xb)\n",
        "        output = F.log_softmax(xb, dim=1)\n",
        "        return output"
      ],
      "execution_count": 0,
      "outputs": []
    },
    {
      "cell_type": "markdown",
      "metadata": {
        "id": "3_SMzTGu79Ue",
        "colab_type": "text"
      },
      "source": [
        "## Hyper-parameters"
      ]
    },
    {
      "cell_type": "code",
      "metadata": {
        "id": "lvKypGmK7_YN",
        "colab_type": "code",
        "colab": {}
      },
      "source": [
        "args={}\n",
        "kwargs={}\n",
        "args['batch_size']=32\n",
        "args['test_batch_size']=1000\n",
        "args['epochs']=10  #The number of Epochs is the number of times you go through the full dataset. \n",
        "args['lr']=0.01 #Learning rate is how fast it will decend. \n",
        "args['momentum']=0.5 #SGD momentum (default: 0.5) Momentum is a moving average of our gradients (helps to keep direction).\n",
        "args['gamma'] = 0.7  #Learning rate step gamma (default: 0.7)\n",
        "\n",
        "args['seed']=1 #random seed\n",
        "args['log_interval']=100\n",
        "args['cuda']=True\n",
        "\n",
        "device = torch.device(\"cuda\" if args['cuda'] else \"cpu\")"
      ],
      "execution_count": 0,
      "outputs": []
    },
    {
      "cell_type": "markdown",
      "metadata": {
        "id": "jI7rfATm3IMj",
        "colab_type": "text"
      },
      "source": [
        "## Load MNIST dataset"
      ]
    },
    {
      "cell_type": "code",
      "metadata": {
        "id": "mV1PPRr570Me",
        "colab_type": "code",
        "colab": {}
      },
      "source": [
        "train_loader = torch.utils.data.DataLoader(\n",
        "    datasets.MNIST('../data', train=True, download=True,\n",
        "                   transform=transforms.Compose([\n",
        "                       transforms.ToTensor(),\n",
        "                       transforms.Normalize((0.1307,), (0.3081,))\n",
        "                   ])),\n",
        "    batch_size=args['batch_size'], shuffle=True, **kwargs)\n",
        "test_loader = torch.utils.data.DataLoader(\n",
        "    datasets.MNIST('../data', train=False, transform=transforms.Compose([\n",
        "                       transforms.ToTensor(),\n",
        "                       transforms.Normalize((0.1307,), (0.3081,))\n",
        "                   ])),\n",
        "    batch_size=args['test_batch_size'], shuffle=True, **kwargs)"
      ],
      "execution_count": 0,
      "outputs": []
    },
    {
      "cell_type": "markdown",
      "metadata": {
        "id": "76_kTtDx8M3G",
        "colab_type": "text"
      },
      "source": [
        "## Training and Testing"
      ]
    },
    {
      "cell_type": "code",
      "metadata": {
        "id": "RdBM2C8yS1ig",
        "colab_type": "code",
        "colab": {}
      },
      "source": [
        "def train(args, model, device, train_loader, optimizer, epoch):\n",
        "    model.train()\n",
        "    epoch_loss = []\n",
        "    for batch_idx, (data, target) in enumerate(train_loader):\n",
        "        data, target = data.to(device), target.to(device)\n",
        "        optimizer.zero_grad()\n",
        "        output = model(data)\n",
        "        loss = F.nll_loss(output, target)\n",
        "        epoch_loss.append(loss.item())\n",
        "        loss.backward()\n",
        "        optimizer.step()\n",
        "        if batch_idx % args['log_interval'] == 0:\n",
        "            print('Train Epoch: {} [{}/{} ({:.0f}%)]\\tLoss: {:.6f}'.format(\n",
        "                epoch, batch_idx * len(data), len(train_loader.dataset),\n",
        "                100. * batch_idx / len(train_loader), loss.item()))\n",
        "    return np.mean(epoch_loss)"
      ],
      "execution_count": 0,
      "outputs": []
    },
    {
      "cell_type": "code",
      "metadata": {
        "id": "KplkHs6P8hRb",
        "colab_type": "code",
        "colab": {}
      },
      "source": [
        "def test(args, model, device, test_loader):\n",
        "    model.eval()\n",
        "    test_loss = 0\n",
        "    correct = 0\n",
        "    with torch.no_grad():\n",
        "        for data, target in test_loader:\n",
        "            data, target = data.to(device), target.to(device)\n",
        "            output = model(data)\n",
        "            test_loss += F.nll_loss(output, target, reduction='sum').item()  # sum up batch loss\n",
        "            pred = output.argmax(dim=1, keepdim=True)  # get the index of the max log-probability\n",
        "            correct += pred.eq(target.view_as(pred)).sum().item()\n",
        "\n",
        "    test_loss /= len(test_loader.dataset)\n",
        "\n",
        "    print('\\nTest set: Average loss: {:.4f}, Accuracy: {}/{} ({:.2f}%)\\n'.format(\n",
        "        test_loss, correct, len(test_loader.dataset),\n",
        "        100. * correct / len(test_loader.dataset)))\n",
        "    return 100. * correct / len(test_loader.dataset)"
      ],
      "execution_count": 0,
      "outputs": []
    },
    {
      "cell_type": "markdown",
      "metadata": {
        "id": "EjQUwEI79TEG",
        "colab_type": "text"
      },
      "source": [
        "## Training Loop"
      ]
    },
    {
      "cell_type": "code",
      "metadata": {
        "id": "TasrqkK6Hl83",
        "colab_type": "code",
        "colab": {
          "base_uri": "https://localhost:8080/",
          "height": 364
        },
        "outputId": "5613a1ff-efb8-440b-e9a6-548aa28b1c92"
      },
      "source": [
        "model = LeNet5().to(device)\n",
        "summary(model, (1, 28, 28))"
      ],
      "execution_count": 35,
      "outputs": [
        {
          "output_type": "stream",
          "text": [
            "----------------------------------------------------------------\n",
            "        Layer (type)               Output Shape         Param #\n",
            "================================================================\n",
            "            Conv2d-1            [-1, 6, 24, 24]             156\n",
            "         MaxPool2d-2            [-1, 6, 12, 12]               0\n",
            "            Conv2d-3             [-1, 16, 8, 8]           2,416\n",
            "         MaxPool2d-4             [-1, 16, 4, 4]               0\n",
            "            Linear-5                  [-1, 120]          30,840\n",
            "            Linear-6                   [-1, 84]          10,164\n",
            "            Linear-7                   [-1, 10]             850\n",
            "================================================================\n",
            "Total params: 44,426\n",
            "Trainable params: 44,426\n",
            "Non-trainable params: 0\n",
            "----------------------------------------------------------------\n",
            "Input size (MB): 0.00\n",
            "Forward/backward pass size (MB): 0.04\n",
            "Params size (MB): 0.17\n",
            "Estimated Total Size (MB): 0.22\n",
            "----------------------------------------------------------------\n"
          ],
          "name": "stdout"
        }
      ]
    },
    {
      "cell_type": "code",
      "metadata": {
        "id": "Dwdb1JgL9UuC",
        "colab_type": "code",
        "colab": {
          "base_uri": "https://localhost:8080/",
          "height": 1000
        },
        "outputId": "9b62efe4-7f3c-46de-9099-7dbc40a27c1f"
      },
      "source": [
        "optimizer = optim.Adadelta(model.parameters(), lr=args['lr'])\n",
        "\n",
        "# optimizer = optim.SGD(model.parameters(), lr=args['lr'], momentum=args['momentum'])\n",
        "\n",
        "scheduler = StepLR(optimizer, step_size=1, gamma=args['gamma'])\n",
        "train_loss = []\n",
        "test_accuracy = []\n",
        "for epoch in range(1, args['epochs'] + 1):\n",
        "    loss = train(args, model, device, train_loader, optimizer, epoch)\n",
        "    accuracy= test(args, model, device, test_loader)\n",
        "    scheduler.step()\n",
        "    train_loss.append(loss)\n",
        "    test_accuracy.append(accuracy)"
      ],
      "execution_count": 41,
      "outputs": [
        {
          "output_type": "stream",
          "text": [
            "Train Epoch: 1 [0/60000 (0%)]\tLoss: 0.105602\n",
            "Train Epoch: 1 [3200/60000 (5%)]\tLoss: 0.274375\n",
            "Train Epoch: 1 [6400/60000 (11%)]\tLoss: 0.476416\n",
            "Train Epoch: 1 [9600/60000 (16%)]\tLoss: 0.116050\n",
            "Train Epoch: 1 [12800/60000 (21%)]\tLoss: 0.212235\n",
            "Train Epoch: 1 [16000/60000 (27%)]\tLoss: 0.083055\n",
            "Train Epoch: 1 [19200/60000 (32%)]\tLoss: 0.295953\n",
            "Train Epoch: 1 [22400/60000 (37%)]\tLoss: 0.158660\n",
            "Train Epoch: 1 [25600/60000 (43%)]\tLoss: 0.725308\n",
            "Train Epoch: 1 [28800/60000 (48%)]\tLoss: 0.228334\n",
            "Train Epoch: 1 [32000/60000 (53%)]\tLoss: 0.120978\n",
            "Train Epoch: 1 [35200/60000 (59%)]\tLoss: 0.374338\n",
            "Train Epoch: 1 [38400/60000 (64%)]\tLoss: 0.285370\n",
            "Train Epoch: 1 [41600/60000 (69%)]\tLoss: 0.057192\n",
            "Train Epoch: 1 [44800/60000 (75%)]\tLoss: 0.170701\n",
            "Train Epoch: 1 [48000/60000 (80%)]\tLoss: 0.316019\n",
            "Train Epoch: 1 [51200/60000 (85%)]\tLoss: 0.149358\n",
            "Train Epoch: 1 [54400/60000 (91%)]\tLoss: 0.291752\n",
            "Train Epoch: 1 [57600/60000 (96%)]\tLoss: 0.094583\n",
            "\n",
            "Test set: Average loss: 0.1970, Accuracy: 9423/10000 (94%)\n",
            "\n",
            "Train Epoch: 2 [0/60000 (0%)]\tLoss: 0.211882\n",
            "Train Epoch: 2 [3200/60000 (5%)]\tLoss: 0.164434\n",
            "Train Epoch: 2 [6400/60000 (11%)]\tLoss: 0.142058\n",
            "Train Epoch: 2 [9600/60000 (16%)]\tLoss: 0.233484\n",
            "Train Epoch: 2 [12800/60000 (21%)]\tLoss: 0.190626\n",
            "Train Epoch: 2 [16000/60000 (27%)]\tLoss: 0.076868\n",
            "Train Epoch: 2 [19200/60000 (32%)]\tLoss: 0.182618\n",
            "Train Epoch: 2 [22400/60000 (37%)]\tLoss: 0.232543\n",
            "Train Epoch: 2 [25600/60000 (43%)]\tLoss: 0.257694\n",
            "Train Epoch: 2 [28800/60000 (48%)]\tLoss: 0.366242\n",
            "Train Epoch: 2 [32000/60000 (53%)]\tLoss: 0.120524\n",
            "Train Epoch: 2 [35200/60000 (59%)]\tLoss: 0.079925\n",
            "Train Epoch: 2 [38400/60000 (64%)]\tLoss: 0.068644\n",
            "Train Epoch: 2 [41600/60000 (69%)]\tLoss: 0.324253\n",
            "Train Epoch: 2 [44800/60000 (75%)]\tLoss: 0.120582\n",
            "Train Epoch: 2 [48000/60000 (80%)]\tLoss: 0.359205\n",
            "Train Epoch: 2 [51200/60000 (85%)]\tLoss: 0.151669\n",
            "Train Epoch: 2 [54400/60000 (91%)]\tLoss: 0.081954\n",
            "Train Epoch: 2 [57600/60000 (96%)]\tLoss: 0.218445\n",
            "\n",
            "Test set: Average loss: 0.1752, Accuracy: 9470/10000 (95%)\n",
            "\n",
            "Train Epoch: 3 [0/60000 (0%)]\tLoss: 0.246448\n",
            "Train Epoch: 3 [3200/60000 (5%)]\tLoss: 0.061764\n",
            "Train Epoch: 3 [6400/60000 (11%)]\tLoss: 0.169694\n",
            "Train Epoch: 3 [9600/60000 (16%)]\tLoss: 0.045802\n",
            "Train Epoch: 3 [12800/60000 (21%)]\tLoss: 0.084821\n",
            "Train Epoch: 3 [16000/60000 (27%)]\tLoss: 0.077864\n",
            "Train Epoch: 3 [19200/60000 (32%)]\tLoss: 0.095507\n",
            "Train Epoch: 3 [22400/60000 (37%)]\tLoss: 0.141486\n",
            "Train Epoch: 3 [25600/60000 (43%)]\tLoss: 0.043821\n",
            "Train Epoch: 3 [28800/60000 (48%)]\tLoss: 0.084451\n",
            "Train Epoch: 3 [32000/60000 (53%)]\tLoss: 0.138235\n",
            "Train Epoch: 3 [35200/60000 (59%)]\tLoss: 0.144096\n",
            "Train Epoch: 3 [38400/60000 (64%)]\tLoss: 0.098092\n",
            "Train Epoch: 3 [41600/60000 (69%)]\tLoss: 0.241938\n",
            "Train Epoch: 3 [44800/60000 (75%)]\tLoss: 0.272908\n",
            "Train Epoch: 3 [48000/60000 (80%)]\tLoss: 0.056488\n",
            "Train Epoch: 3 [51200/60000 (85%)]\tLoss: 0.259484\n",
            "Train Epoch: 3 [54400/60000 (91%)]\tLoss: 0.112340\n",
            "Train Epoch: 3 [57600/60000 (96%)]\tLoss: 0.115273\n",
            "\n",
            "Test set: Average loss: 0.1612, Accuracy: 9521/10000 (95%)\n",
            "\n",
            "Train Epoch: 4 [0/60000 (0%)]\tLoss: 0.143591\n",
            "Train Epoch: 4 [3200/60000 (5%)]\tLoss: 0.248790\n",
            "Train Epoch: 4 [6400/60000 (11%)]\tLoss: 0.135134\n",
            "Train Epoch: 4 [9600/60000 (16%)]\tLoss: 0.067946\n",
            "Train Epoch: 4 [12800/60000 (21%)]\tLoss: 0.127782\n",
            "Train Epoch: 4 [16000/60000 (27%)]\tLoss: 0.113422\n",
            "Train Epoch: 4 [19200/60000 (32%)]\tLoss: 0.081951\n",
            "Train Epoch: 4 [22400/60000 (37%)]\tLoss: 0.075683\n",
            "Train Epoch: 4 [25600/60000 (43%)]\tLoss: 0.334367\n",
            "Train Epoch: 4 [28800/60000 (48%)]\tLoss: 0.269264\n",
            "Train Epoch: 4 [32000/60000 (53%)]\tLoss: 0.294401\n",
            "Train Epoch: 4 [35200/60000 (59%)]\tLoss: 0.194472\n",
            "Train Epoch: 4 [38400/60000 (64%)]\tLoss: 0.241700\n",
            "Train Epoch: 4 [41600/60000 (69%)]\tLoss: 0.116379\n",
            "Train Epoch: 4 [44800/60000 (75%)]\tLoss: 0.062129\n",
            "Train Epoch: 4 [48000/60000 (80%)]\tLoss: 0.191610\n",
            "Train Epoch: 4 [51200/60000 (85%)]\tLoss: 0.070285\n",
            "Train Epoch: 4 [54400/60000 (91%)]\tLoss: 0.091645\n",
            "Train Epoch: 4 [57600/60000 (96%)]\tLoss: 0.082604\n",
            "\n",
            "Test set: Average loss: 0.1559, Accuracy: 9540/10000 (95%)\n",
            "\n",
            "Train Epoch: 5 [0/60000 (0%)]\tLoss: 0.255942\n",
            "Train Epoch: 5 [3200/60000 (5%)]\tLoss: 0.146191\n",
            "Train Epoch: 5 [6400/60000 (11%)]\tLoss: 0.273058\n",
            "Train Epoch: 5 [9600/60000 (16%)]\tLoss: 0.484039\n",
            "Train Epoch: 5 [12800/60000 (21%)]\tLoss: 0.075533\n",
            "Train Epoch: 5 [16000/60000 (27%)]\tLoss: 0.166436\n",
            "Train Epoch: 5 [19200/60000 (32%)]\tLoss: 0.109361\n",
            "Train Epoch: 5 [22400/60000 (37%)]\tLoss: 0.057108\n",
            "Train Epoch: 5 [25600/60000 (43%)]\tLoss: 0.427857\n",
            "Train Epoch: 5 [28800/60000 (48%)]\tLoss: 0.130044\n",
            "Train Epoch: 5 [32000/60000 (53%)]\tLoss: 0.314161\n",
            "Train Epoch: 5 [35200/60000 (59%)]\tLoss: 0.159106\n",
            "Train Epoch: 5 [38400/60000 (64%)]\tLoss: 0.171318\n",
            "Train Epoch: 5 [41600/60000 (69%)]\tLoss: 0.048444\n",
            "Train Epoch: 5 [44800/60000 (75%)]\tLoss: 0.108951\n",
            "Train Epoch: 5 [48000/60000 (80%)]\tLoss: 0.448294\n",
            "Train Epoch: 5 [51200/60000 (85%)]\tLoss: 0.151861\n",
            "Train Epoch: 5 [54400/60000 (91%)]\tLoss: 0.293678\n",
            "Train Epoch: 5 [57600/60000 (96%)]\tLoss: 0.121131\n",
            "\n",
            "Test set: Average loss: 0.1486, Accuracy: 9548/10000 (95%)\n",
            "\n",
            "Train Epoch: 6 [0/60000 (0%)]\tLoss: 0.192775\n",
            "Train Epoch: 6 [3200/60000 (5%)]\tLoss: 0.896243\n",
            "Train Epoch: 6 [6400/60000 (11%)]\tLoss: 0.164822\n",
            "Train Epoch: 6 [9600/60000 (16%)]\tLoss: 0.098527\n",
            "Train Epoch: 6 [12800/60000 (21%)]\tLoss: 0.048641\n",
            "Train Epoch: 6 [16000/60000 (27%)]\tLoss: 0.074381\n",
            "Train Epoch: 6 [19200/60000 (32%)]\tLoss: 0.217723\n",
            "Train Epoch: 6 [22400/60000 (37%)]\tLoss: 0.127492\n",
            "Train Epoch: 6 [25600/60000 (43%)]\tLoss: 0.216270\n",
            "Train Epoch: 6 [28800/60000 (48%)]\tLoss: 0.078602\n",
            "Train Epoch: 6 [32000/60000 (53%)]\tLoss: 0.079347\n",
            "Train Epoch: 6 [35200/60000 (59%)]\tLoss: 0.068217\n",
            "Train Epoch: 6 [38400/60000 (64%)]\tLoss: 0.050185\n",
            "Train Epoch: 6 [41600/60000 (69%)]\tLoss: 0.158466\n",
            "Train Epoch: 6 [44800/60000 (75%)]\tLoss: 0.130974\n",
            "Train Epoch: 6 [48000/60000 (80%)]\tLoss: 0.169230\n",
            "Train Epoch: 6 [51200/60000 (85%)]\tLoss: 0.136626\n",
            "Train Epoch: 6 [54400/60000 (91%)]\tLoss: 0.027060\n",
            "Train Epoch: 6 [57600/60000 (96%)]\tLoss: 0.074619\n",
            "\n",
            "Test set: Average loss: 0.1454, Accuracy: 9563/10000 (96%)\n",
            "\n",
            "Train Epoch: 7 [0/60000 (0%)]\tLoss: 0.283613\n",
            "Train Epoch: 7 [3200/60000 (5%)]\tLoss: 0.135518\n",
            "Train Epoch: 7 [6400/60000 (11%)]\tLoss: 0.070327\n",
            "Train Epoch: 7 [9600/60000 (16%)]\tLoss: 0.098528\n",
            "Train Epoch: 7 [12800/60000 (21%)]\tLoss: 0.218298\n",
            "Train Epoch: 7 [16000/60000 (27%)]\tLoss: 0.107454\n",
            "Train Epoch: 7 [19200/60000 (32%)]\tLoss: 0.124471\n",
            "Train Epoch: 7 [22400/60000 (37%)]\tLoss: 0.220555\n",
            "Train Epoch: 7 [25600/60000 (43%)]\tLoss: 0.148538\n",
            "Train Epoch: 7 [28800/60000 (48%)]\tLoss: 0.212555\n",
            "Train Epoch: 7 [32000/60000 (53%)]\tLoss: 0.135575\n",
            "Train Epoch: 7 [35200/60000 (59%)]\tLoss: 0.258489\n",
            "Train Epoch: 7 [38400/60000 (64%)]\tLoss: 0.194636\n",
            "Train Epoch: 7 [41600/60000 (69%)]\tLoss: 0.083656\n",
            "Train Epoch: 7 [44800/60000 (75%)]\tLoss: 0.105353\n",
            "Train Epoch: 7 [48000/60000 (80%)]\tLoss: 0.104037\n",
            "Train Epoch: 7 [51200/60000 (85%)]\tLoss: 0.151157\n",
            "Train Epoch: 7 [54400/60000 (91%)]\tLoss: 0.074065\n",
            "Train Epoch: 7 [57600/60000 (96%)]\tLoss: 0.080734\n",
            "\n",
            "Test set: Average loss: 0.1444, Accuracy: 9567/10000 (96%)\n",
            "\n",
            "Train Epoch: 8 [0/60000 (0%)]\tLoss: 0.106098\n",
            "Train Epoch: 8 [3200/60000 (5%)]\tLoss: 0.038836\n",
            "Train Epoch: 8 [6400/60000 (11%)]\tLoss: 0.070756\n",
            "Train Epoch: 8 [9600/60000 (16%)]\tLoss: 0.230679\n",
            "Train Epoch: 8 [12800/60000 (21%)]\tLoss: 0.110836\n",
            "Train Epoch: 8 [16000/60000 (27%)]\tLoss: 0.211639\n",
            "Train Epoch: 8 [19200/60000 (32%)]\tLoss: 0.409212\n",
            "Train Epoch: 8 [22400/60000 (37%)]\tLoss: 0.085204\n",
            "Train Epoch: 8 [25600/60000 (43%)]\tLoss: 0.067072\n",
            "Train Epoch: 8 [28800/60000 (48%)]\tLoss: 0.353561\n",
            "Train Epoch: 8 [32000/60000 (53%)]\tLoss: 0.108168\n",
            "Train Epoch: 8 [35200/60000 (59%)]\tLoss: 0.312622\n",
            "Train Epoch: 8 [38400/60000 (64%)]\tLoss: 0.076081\n",
            "Train Epoch: 8 [41600/60000 (69%)]\tLoss: 0.037633\n",
            "Train Epoch: 8 [44800/60000 (75%)]\tLoss: 0.253756\n",
            "Train Epoch: 8 [48000/60000 (80%)]\tLoss: 0.256622\n",
            "Train Epoch: 8 [51200/60000 (85%)]\tLoss: 0.151786\n",
            "Train Epoch: 8 [54400/60000 (91%)]\tLoss: 0.193788\n",
            "Train Epoch: 8 [57600/60000 (96%)]\tLoss: 0.235809\n",
            "\n",
            "Test set: Average loss: 0.1430, Accuracy: 9563/10000 (96%)\n",
            "\n",
            "Train Epoch: 9 [0/60000 (0%)]\tLoss: 0.086442\n",
            "Train Epoch: 9 [3200/60000 (5%)]\tLoss: 0.147489\n",
            "Train Epoch: 9 [6400/60000 (11%)]\tLoss: 0.078455\n",
            "Train Epoch: 9 [9600/60000 (16%)]\tLoss: 0.164452\n",
            "Train Epoch: 9 [12800/60000 (21%)]\tLoss: 0.138249\n",
            "Train Epoch: 9 [16000/60000 (27%)]\tLoss: 0.136106\n",
            "Train Epoch: 9 [19200/60000 (32%)]\tLoss: 0.192155\n",
            "Train Epoch: 9 [22400/60000 (37%)]\tLoss: 0.072646\n",
            "Train Epoch: 9 [25600/60000 (43%)]\tLoss: 0.024954\n",
            "Train Epoch: 9 [28800/60000 (48%)]\tLoss: 0.166980\n",
            "Train Epoch: 9 [32000/60000 (53%)]\tLoss: 0.287514\n",
            "Train Epoch: 9 [35200/60000 (59%)]\tLoss: 0.135893\n",
            "Train Epoch: 9 [38400/60000 (64%)]\tLoss: 0.221978\n",
            "Train Epoch: 9 [41600/60000 (69%)]\tLoss: 0.107398\n",
            "Train Epoch: 9 [44800/60000 (75%)]\tLoss: 0.212114\n",
            "Train Epoch: 9 [48000/60000 (80%)]\tLoss: 0.185885\n",
            "Train Epoch: 9 [51200/60000 (85%)]\tLoss: 0.262818\n",
            "Train Epoch: 9 [54400/60000 (91%)]\tLoss: 0.297829\n",
            "Train Epoch: 9 [57600/60000 (96%)]\tLoss: 0.172447\n",
            "\n",
            "Test set: Average loss: 0.1419, Accuracy: 9569/10000 (96%)\n",
            "\n",
            "Train Epoch: 10 [0/60000 (0%)]\tLoss: 0.106408\n",
            "Train Epoch: 10 [3200/60000 (5%)]\tLoss: 0.191536\n",
            "Train Epoch: 10 [6400/60000 (11%)]\tLoss: 0.045083\n",
            "Train Epoch: 10 [9600/60000 (16%)]\tLoss: 0.138871\n",
            "Train Epoch: 10 [12800/60000 (21%)]\tLoss: 0.097286\n",
            "Train Epoch: 10 [16000/60000 (27%)]\tLoss: 0.073956\n",
            "Train Epoch: 10 [19200/60000 (32%)]\tLoss: 0.097314\n",
            "Train Epoch: 10 [22400/60000 (37%)]\tLoss: 0.202247\n",
            "Train Epoch: 10 [25600/60000 (43%)]\tLoss: 0.137833\n",
            "Train Epoch: 10 [28800/60000 (48%)]\tLoss: 0.134817\n",
            "Train Epoch: 10 [32000/60000 (53%)]\tLoss: 0.209072\n",
            "Train Epoch: 10 [35200/60000 (59%)]\tLoss: 0.069366\n",
            "Train Epoch: 10 [38400/60000 (64%)]\tLoss: 0.112836\n",
            "Train Epoch: 10 [41600/60000 (69%)]\tLoss: 0.075765\n",
            "Train Epoch: 10 [44800/60000 (75%)]\tLoss: 0.247028\n",
            "Train Epoch: 10 [48000/60000 (80%)]\tLoss: 0.216880\n",
            "Train Epoch: 10 [51200/60000 (85%)]\tLoss: 0.077790\n",
            "Train Epoch: 10 [54400/60000 (91%)]\tLoss: 0.080514\n",
            "Train Epoch: 10 [57600/60000 (96%)]\tLoss: 0.099136\n",
            "\n",
            "Test set: Average loss: 0.1410, Accuracy: 9569/10000 (96%)\n",
            "\n"
          ],
          "name": "stdout"
        }
      ]
    }
  ]
}