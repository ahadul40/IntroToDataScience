{
  "nbformat": 4,
  "nbformat_minor": 0,
  "metadata": {
    "kernelspec": {
      "display_name": "Python 3",
      "name": "python3"
    },
    "language_info": {
      "name": "python"
    },
    "colab": {
      "name": "mlp-scratch.ipynb",
      "provenance": []
    }
  },
  "cells": [
    {
      "cell_type": "markdown",
      "metadata": {
        "id": "xCkdoMli4mEN",
        "colab_type": "text"
      },
      "source": [
        "The following additional libraries are needed to run this\n",
        "notebook. Note that running on Colab is experimental, please report a Github\n",
        "issue if you have any problem."
      ]
    },
    {
      "cell_type": "code",
      "metadata": {
        "id": "eaCe53q14mEO",
        "colab_type": "code",
        "colab": {}
      },
      "source": [
        "!pip install d2l==0.14.0\n"
      ],
      "execution_count": null,
      "outputs": []
    },
    {
      "cell_type": "markdown",
      "metadata": {
        "origin_pos": 0,
        "id": "7N3T-cD44mET",
        "colab_type": "text"
      },
      "source": [
        "# Implementation of Multilayer Perceptrons from Scratch\n",
        ":label:`sec_mlp_scratch`\n",
        "\n",
        "Now that we have characterized \n",
        "multilayer perceptrons (MLPs) mathematically, \n",
        "let us try to implement one ourselves.\n"
      ]
    },
    {
      "cell_type": "code",
      "metadata": {
        "origin_pos": 2,
        "tab": [
          "pytorch"
        ],
        "id": "vGNXH4VW4mEU",
        "colab_type": "code",
        "colab": {}
      },
      "source": [
        "from d2l import torch as d2l\n",
        "import torch\n",
        "from torch import nn"
      ],
      "execution_count": null,
      "outputs": []
    },
    {
      "cell_type": "markdown",
      "metadata": {
        "origin_pos": 4,
        "id": "8cQcBlvK4mEb",
        "colab_type": "text"
      },
      "source": [
        "To compare against our previous results\n",
        "achieved with softmax regression\n",
        "(:numref:`sec_softmax_scratch`),\n",
        "we will continue to work with \n",
        "the Fashion-MNIST image classification dataset \n",
        "(:numref:`sec_fashion_mnist`).\n"
      ]
    },
    {
      "cell_type": "code",
      "metadata": {
        "origin_pos": 5,
        "tab": [
          "pytorch"
        ],
        "id": "PQyEGQHT4mEb",
        "colab_type": "code",
        "colab": {}
      },
      "source": [
        "batch_size = 256\n",
        "train_iter, test_iter = d2l.load_data_fashion_mnist(batch_size)"
      ],
      "execution_count": null,
      "outputs": []
    },
    {
      "cell_type": "markdown",
      "metadata": {
        "origin_pos": 6,
        "id": "m33OcqoU4mEf",
        "colab_type": "text"
      },
      "source": [
        "## Initializing Model Parameters\n",
        "\n",
        "Recall that Fashion-MNIST contains 10 classes,\n",
        "and that each image consists of a $28 \\times 28 = 784$\n",
        "grid of grayscale pixel values.\n",
        "Again, we will disregard the spatial structure\n",
        "among the pixels for now,\n",
        "so we can think of this as simply a classification dataset\n",
        "with 784 input features and 10 classes.\n",
        "To begin, we will implement an MLP\n",
        "with one hidden layer and 256 hidden units.\n",
        "Note that we can regard both of these quantities\n",
        "as hyperparameters.\n",
        "Typically, we choose layer widths in powers of 2,\n",
        "which tend to be computationally efficient because\n",
        "of how memory is allocated and addressed in hardware.\n",
        "\n",
        "Again, we will represent our parameters with several tensors.\n",
        "Note that *for every layer*, we must keep track of\n",
        "one weight matrix and one bias vector.\n",
        "As always, we allocate memory\n",
        "for the gradients of the loss with respect to these parameters.\n"
      ]
    },
    {
      "cell_type": "code",
      "metadata": {
        "origin_pos": 8,
        "tab": [
          "pytorch"
        ],
        "id": "YoPNIq3A4mEf",
        "colab_type": "code",
        "colab": {}
      },
      "source": [
        "num_inputs, num_outputs, num_hiddens = 784, 10, 256\n",
        "\n",
        "W1 = nn.Parameter(torch.randn(\n",
        "    num_inputs, num_hiddens, requires_grad=True) * 0.01)\n",
        "b1 = nn.Parameter(torch.zeros(num_hiddens, requires_grad=True))\n",
        "W2 = nn.Parameter(torch.randn(\n",
        "    num_hiddens, num_outputs, requires_grad=True) * 0.01)\n",
        "b2 = nn.Parameter(torch.zeros(num_outputs, requires_grad=True))\n",
        "\n",
        "params = [W1, b1, W2, b2]"
      ],
      "execution_count": null,
      "outputs": []
    },
    {
      "cell_type": "markdown",
      "metadata": {
        "origin_pos": 10,
        "id": "6Sc-9Au-4mEj",
        "colab_type": "text"
      },
      "source": [
        "## Activation Function\n",
        "\n",
        "To make sure we know how everything works,\n",
        "we will implement the ReLU activation ourselves\n",
        "using the maximum function rather than \n",
        "invoking the built-in `relu` function directly.\n"
      ]
    },
    {
      "cell_type": "code",
      "metadata": {
        "origin_pos": 12,
        "tab": [
          "pytorch"
        ],
        "id": "ajPKuu9K4mEj",
        "colab_type": "code",
        "colab": {}
      },
      "source": [
        "def relu(X):\n",
        "    a = torch.zeros_like(X)\n",
        "    return torch.max(X, a)"
      ],
      "execution_count": null,
      "outputs": []
    },
    {
      "cell_type": "markdown",
      "metadata": {
        "origin_pos": 14,
        "id": "-Hb7_QgJ4mEn",
        "colab_type": "text"
      },
      "source": [
        "## Model\n",
        "\n",
        "Because we are disregarding spatial structure, \n",
        "we `reshape` each two-dimensional image into \n",
        "a flat vector of length  `num_inputs`.\n",
        "Finally, we implement our model \n",
        "with just a few lines of code.\n"
      ]
    },
    {
      "cell_type": "code",
      "metadata": {
        "origin_pos": 16,
        "tab": [
          "pytorch"
        ],
        "id": "TEsCa6eE4mEn",
        "colab_type": "code",
        "colab": {}
      },
      "source": [
        "def net(X):\n",
        "    X = d2l.reshape(X, (-1, num_inputs))\n",
        "    H = relu(X@W1 + b1)  # Here '@' stands for matrix multiplication\n",
        "    return (H@W2 + b2)"
      ],
      "execution_count": null,
      "outputs": []
    },
    {
      "cell_type": "markdown",
      "metadata": {
        "origin_pos": 18,
        "id": "80zNmQq-4mEr",
        "colab_type": "text"
      },
      "source": [
        "## Loss Function\n",
        "\n",
        "To ensure numerical stability,\n",
        "and because we already implemented\n",
        "the softmax function from scratch\n",
        "(:numref:`sec_softmax_scratch`),\n",
        "we leverage the integrated function from high-level APIs\n",
        "for calculating the softmax and cross-entropy loss.\n",
        "Recall our earlier discussion of these intricacies \n",
        "in :numref:`subsec_softmax-implementation-revisited`.\n",
        "We encourage the interested reader \n",
        "to examine the source code for the loss function\n",
        "to deepen their knowledge of implementation details.\n"
      ]
    },
    {
      "cell_type": "code",
      "metadata": {
        "origin_pos": 20,
        "tab": [
          "pytorch"
        ],
        "id": "uZqS65g04mEs",
        "colab_type": "code",
        "colab": {}
      },
      "source": [
        "loss = nn.CrossEntropyLoss()"
      ],
      "execution_count": null,
      "outputs": []
    },
    {
      "cell_type": "markdown",
      "metadata": {
        "origin_pos": 22,
        "id": "o52mb4YR4mEw",
        "colab_type": "text"
      },
      "source": [
        "## Training\n",
        "\n",
        "Fortunately, the training loop for MLPs\n",
        "is exactly the same as for softmax regression.\n",
        "Leveraging the `d2l` package again, \n",
        "we call the `train_ch3` function  \n",
        "(see :numref:`sec_softmax_scratch`),\n",
        "setting the number of epochs to 10\n",
        "and the learning rate to 0.5.\n"
      ]
    },
    {
      "cell_type": "code",
      "metadata": {
        "origin_pos": 24,
        "tab": [
          "pytorch"
        ],
        "id": "VoA3oXlw4mEw",
        "colab_type": "code",
        "colab": {}
      },
      "source": [
        "num_epochs, lr = 10, 0.5\n",
        "updater = torch.optim.SGD(params, lr=lr)\n",
        "d2l.train_ch3(net, train_iter, test_iter, loss, num_epochs, updater)"
      ],
      "execution_count": null,
      "outputs": []
    },
    {
      "cell_type": "markdown",
      "metadata": {
        "origin_pos": 26,
        "id": "UhtJMAYs4mE1",
        "colab_type": "text"
      },
      "source": [
        "To evaluate the learned model, \n",
        "we apply it on some test data.\n"
      ]
    },
    {
      "cell_type": "code",
      "metadata": {
        "origin_pos": 27,
        "tab": [
          "pytorch"
        ],
        "id": "SvrcN26r4mE2",
        "colab_type": "code",
        "colab": {}
      },
      "source": [
        "d2l.predict_ch3(net, test_iter)"
      ],
      "execution_count": null,
      "outputs": []
    },
    {
      "cell_type": "markdown",
      "metadata": {
        "origin_pos": 28,
        "id": "iRkhhkXw4mE5",
        "colab_type": "text"
      },
      "source": [
        "## Summary\n",
        "\n",
        "* We saw that implementing a simple MLP is easy, even when done manually.\n",
        "* However, with a large number of layers, implementing MLPs from scratch can still get messy (e.g., naming and keeping track of our model's parameters).\n",
        "\n",
        "\n",
        "## Exercises\n",
        "\n",
        "1. Change the value of the hyperparameter `num_hiddens` and see how this hyperparameter influences your results. Determine the best value of this hyperparameter, keeping all others constant.\n",
        "1. Try adding an additional hidden layer to see how it affects the results.\n",
        "1. How does changing the learning rate alter your results? Fixing the model architecture and other hyperparameters (including number of epochs), what learning rate gives you the best results? \n",
        "1. What is the best result you can get by optimizing over all the hyperparameters (learning rate, number of epochs, number of hidden layers, number of hidden units per layer) jointly? \n",
        "1. Describe why it is much more challenging to deal with multiple hyperparameters. \n",
        "1. What is the smartest strategy you can think of for structuring a search over multiple hyperparameters?\n"
      ]
    },
    {
      "cell_type": "markdown",
      "metadata": {
        "origin_pos": 30,
        "tab": [
          "pytorch"
        ],
        "id": "dG2CKM8o4mE6",
        "colab_type": "text"
      },
      "source": [
        "[Discussions](https://discuss.d2l.ai/t/93)\n"
      ]
    }
  ]
}